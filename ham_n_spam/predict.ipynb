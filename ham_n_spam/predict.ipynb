{
 "cells": [
  {
   "cell_type": "code",
   "execution_count": 14,
   "metadata": {},
   "outputs": [],
   "source": [
    "# import statements\n",
    "import re\n",
    "import pandas\n",
    "from sklearn.feature_extraction.text import CountVectorizer\n",
    "import pickle"
   ]
  },
  {
   "cell_type": "code",
   "execution_count": 15,
   "metadata": {},
   "outputs": [
    {
     "name": "stdout",
     "output_type": "stream",
     "text": [
      "ENTER SMS: free 50% off\n",
      "['ham']\n"
     ]
    }
   ],
   "source": [
    "model = pickle.load(open(\"ham_n_spam.model\",'rb'))\n",
    "cv = pickle.load(open('count_vect', 'rb'))\n",
    "s=input(\"ENTER SMS: \")\n",
    "s= re.sub(r\"[^a-zA-Z0-9]+\",' ',s)\n",
    "data=[[s]]\n",
    "df = pandas.DataFrame(data,columns=[\"Message\"])\n",
    "# print(df.head())\n",
    "my_test_feature = cv.transform(df[\"Message\"])\n",
    "# print(my_test_feature)\n",
    "r=model.predict(my_test_feature)\n",
    "print(r)"
   ]
  },
  {
   "cell_type": "code",
   "execution_count": null,
   "metadata": {},
   "outputs": [],
   "source": []
  }
 ],
 "metadata": {
  "kernelspec": {
   "display_name": "Python 3",
   "language": "python",
   "name": "python3"
  },
  "language_info": {
   "codemirror_mode": {
    "name": "ipython",
    "version": 3
   },
   "file_extension": ".py",
   "mimetype": "text/x-python",
   "name": "python",
   "nbconvert_exporter": "python",
   "pygments_lexer": "ipython3",
   "version": "3.8.5"
  }
 },
 "nbformat": 4,
 "nbformat_minor": 4
}
